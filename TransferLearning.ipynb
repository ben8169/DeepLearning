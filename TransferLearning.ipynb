{
 "cells": [
  {
   "cell_type": "code",
   "execution_count": null,
   "metadata": {},
   "outputs": [],
   "source": [
    "import torchvision.transforms as transforms\n",
    "import torch\n",
    "from torchvision.datasets import ImageFolder\n",
    "import os\n",
    "\n",
    "data_transforms = {\n",
    "    'train': transforms.Compose([\n",
    "        transforms.Resize([64,64]), # Resize the input PIL Image to the given size.\n",
    "        transforms.RandomResizedCrop(224), # Crop the given PIL Image to random size and aspect ratio.\n",
    "        transforms.RandomHorizontalFlip(), # Horizontally flip the given PIL Image randomly with a given probability.\n",
    "        transforms.ToTensor(), # Convert a PIL Image or numpy.ndarray to tensor.\n",
    "        transforms.Normalize([0.485, 0.456, 0.406], # Normalize a tensor image with mean and standard deviation.\n",
    "                                [0.229, 0.224, 0.225])\n",
    "    ]),\n",
    "    'val': transforms.Compose([\n",
    "        transforms.Resize([64,64]),\n",
    "        transforms.RandomCrop(224), # Crops the given PIL Image at the center.\n",
    "        transforms.ToTensor(),\n",
    "        transforms.Normalize([0.485, 0.456, 0.406],\n",
    "                                [0.229, 0.224, 0.225])\n",
    "    ]),\n",
    "}\n",
    "\n",
    "data_dir = \"D:/splitted\"\n",
    "image_datasets = {x: ImageFolder(os.path.join(data_dir, x),\n",
    "                                            data_transforms[x]) for x in ['train', 'val']}\n",
    "\n",
    "dataloaders = {x: torch.utils.data.DataLoader(image_datasets[x], batch_size=4,\n",
    "                                            shuffle=True, num_workers=4) for x in ['train', 'val']}\n",
    "\n",
    "dataset_sizes = {x: len(image_datasets[x]) for x in ['train', 'val']}\n",
    "\n",
    "class_names = image_datasets['train'].classes\n"
   ]
  }
 ],
 "metadata": {
  "language_info": {
   "name": "python"
  },
  "orig_nbformat": 4
 },
 "nbformat": 4,
 "nbformat_minor": 2
}
